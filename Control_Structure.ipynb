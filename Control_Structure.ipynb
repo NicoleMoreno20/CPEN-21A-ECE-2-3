{
  "nbformat": 4,
  "nbformat_minor": 0,
  "metadata": {
    "colab": {
      "name": "Control Structure.ipynb",
      "provenance": [],
      "authorship_tag": "ABX9TyPTr9xSAq769OMyW89Nwgdc",
      "include_colab_link": true
    },
    "kernelspec": {
      "name": "python3",
      "display_name": "Python 3"
    },
    "language_info": {
      "name": "python"
    }
  },
  "cells": [
    {
      "cell_type": "markdown",
      "metadata": {
        "id": "view-in-github",
        "colab_type": "text"
      },
      "source": [
        "<a href=\"https://colab.research.google.com/github/NicoleMoreno20/CPEN-21A-ECE-2-3/blob/main/Control_Structure.ipynb\" target=\"_parent\"><img src=\"https://colab.research.google.com/assets/colab-badge.svg\" alt=\"Open In Colab\"/></a>"
      ]
    },
    {
      "cell_type": "markdown",
      "metadata": {
        "id": "BwAlSny-fk3M"
      },
      "source": [
        "# If Statement"
      ]
    },
    {
      "cell_type": "code",
      "metadata": {
        "colab": {
          "base_uri": "https://localhost:8080/"
        },
        "id": "9WQniU1afqJs",
        "outputId": "074228d3-8773-420f-93dc-a030ee2c62c6"
      },
      "source": [
        "a = 12\n",
        "b = 100\n",
        "if a<b:\n",
        "  print(\"a is less than b\")"
      ],
      "execution_count": 1,
      "outputs": [
        {
          "output_type": "stream",
          "name": "stdout",
          "text": [
            "a is less than b\n"
          ]
        }
      ]
    },
    {
      "cell_type": "markdown",
      "metadata": {
        "id": "aLFgMxfpgaJK"
      },
      "source": [
        "#Elif Statement"
      ]
    },
    {
      "cell_type": "code",
      "metadata": {
        "colab": {
          "base_uri": "https://localhost:8080/"
        },
        "id": "0mLelBYof62C",
        "outputId": "7cdfdb93-e9f6-4f5a-8c9b-8af77404fff3"
      },
      "source": [
        "a = 30\n",
        "b = 15\n",
        "if a<b:\n",
        "  print(\"a is less than b\")\n",
        "elif a>b:\n",
        "  print(\"a is greater than b\")\n"
      ],
      "execution_count": 2,
      "outputs": [
        {
          "output_type": "stream",
          "name": "stdout",
          "text": [
            "a is greater than b\n"
          ]
        }
      ]
    },
    {
      "cell_type": "markdown",
      "metadata": {
        "id": "9uKEHHvEge80"
      },
      "source": [
        "#Else Statement"
      ]
    },
    {
      "cell_type": "code",
      "metadata": {
        "colab": {
          "base_uri": "https://localhost:8080/"
        },
        "id": "MN5n2BLfgiWt",
        "outputId": "bfbd99d2-300f-423d-97ff-7105f775abbc"
      },
      "source": [
        "a = 30\n",
        "b = 30\n",
        "if a<b:\n",
        "  print(\"a is less than b\")\n",
        "elif a>b:\n",
        "  print(\"a is greater than b\")\n",
        "else:\n",
        "  print(\"a is equal to b\")"
      ],
      "execution_count": 3,
      "outputs": [
        {
          "output_type": "stream",
          "name": "stdout",
          "text": [
            "a is equal to b\n"
          ]
        }
      ]
    },
    {
      "cell_type": "markdown",
      "metadata": {
        "id": "y9X7MDaChIVA"
      },
      "source": [
        "#Short Hand If Statement"
      ]
    },
    {
      "cell_type": "code",
      "metadata": {
        "id": "TOdO93VghNF4"
      },
      "source": [
        "a = 16\n",
        "a = 22\n",
        "if a>b: print(\"a is greater than b\")"
      ],
      "execution_count": 4,
      "outputs": []
    },
    {
      "cell_type": "markdown",
      "metadata": {
        "id": "17sONsCGhed9"
      },
      "source": [
        "# Short Hand If.. Else Statement"
      ]
    },
    {
      "cell_type": "code",
      "metadata": {
        "colab": {
          "base_uri": "https://localhost:8080/"
        },
        "id": "iUP1nNXqhk6a",
        "outputId": "4428e2e2-9377-437a-bf89-560a0d1d5de4"
      },
      "source": [
        "print(\"a is greater than b\") if a>b else print(\"b is greater than a\")"
      ],
      "execution_count": 5,
      "outputs": [
        {
          "output_type": "stream",
          "name": "stdout",
          "text": [
            "b is greater than a\n"
          ]
        }
      ]
    },
    {
      "cell_type": "markdown",
      "metadata": {
        "id": "iZFXT-ARh0nu"
      },
      "source": [
        "# And Logic Conditions"
      ]
    },
    {
      "cell_type": "code",
      "metadata": {
        "colab": {
          "base_uri": "https://localhost:8080/"
        },
        "id": "tDrnjX-jh4L2",
        "outputId": "3d96e1a7-c037-41b5-982f-a7d803356bb0"
      },
      "source": [
        "a = 200\n",
        "b = 33\n",
        "c = 500\n",
        "if a>b and c>a:\n",
        "  print(\"Both conditions are True\") \n",
        "else:\n",
        "  print(\"Either of the conditions are True\")"
      ],
      "execution_count": 6,
      "outputs": [
        {
          "output_type": "stream",
          "name": "stdout",
          "text": [
            "Both conditions are True\n"
          ]
        }
      ]
    },
    {
      "cell_type": "markdown",
      "metadata": {
        "id": "AZL0rnGlifVN"
      },
      "source": [
        "#Or Logic Conditions"
      ]
    },
    {
      "cell_type": "code",
      "metadata": {
        "colab": {
          "base_uri": "https://localhost:8080/"
        },
        "id": "OCkvZifVij8W",
        "outputId": "2bbf7b7f-aed5-476e-8e9b-bdf7b1efea83"
      },
      "source": [
        "if a<b or c>a:\n",
        "  print(\"True\")\n",
        "else:\n",
        "  print(\"False\")"
      ],
      "execution_count": 7,
      "outputs": [
        {
          "output_type": "stream",
          "name": "stdout",
          "text": [
            "True\n"
          ]
        }
      ]
    },
    {
      "cell_type": "markdown",
      "metadata": {
        "id": "kS7LyDt9ixy8"
      },
      "source": [
        "#Nested if"
      ]
    },
    {
      "cell_type": "code",
      "metadata": {
        "colab": {
          "base_uri": "https://localhost:8080/"
        },
        "id": "lvYBHDzRi22c",
        "outputId": "41ed764c-e819-402b-83d4-951a62f051f2"
      },
      "source": [
        "x = 41\n",
        "if x>10:\n",
        "  print(\"Above 10\")\n",
        "  if x>20:\n",
        "     print(\"and above 20!\")\n",
        "     if x>30:\n",
        "        print(\"and above 30\")\n",
        "     else:\n",
        "        print(\"not above 30\")\n",
        "  else:\n",
        "     print(\"not above 20\")\n",
        "else:\n",
        "  print(\"below 10\") "
      ],
      "execution_count": 19,
      "outputs": [
        {
          "output_type": "stream",
          "name": "stdout",
          "text": [
            "Above 10\n",
            "and above 20!\n",
            "and above 30\n"
          ]
        }
      ]
    },
    {
      "cell_type": "markdown",
      "metadata": {
        "id": "_8CZmKSJlrKB"
      },
      "source": [
        "#Example 1"
      ]
    },
    {
      "cell_type": "code",
      "metadata": {
        "colab": {
          "base_uri": "https://localhost:8080/"
        },
        "id": "HizKRl3VluhV",
        "outputId": "05c46b17-8f4c-4a9b-b111-e9b86bc27cad"
      },
      "source": [
        "age = int(input(\"enter your age:\"))\n",
        "if age>=18:\n",
        "  print(\"You are qualified to vote\")\n",
        "else:\n",
        "  print(\"You are not qualified to vote\")"
      ],
      "execution_count": 24,
      "outputs": [
        {
          "output_type": "stream",
          "name": "stdout",
          "text": [
            "enter your age:22\n",
            "You are qualified to vote\n"
          ]
        }
      ]
    },
    {
      "cell_type": "markdown",
      "metadata": {
        "id": "uMV83bIBmTFb"
      },
      "source": [
        "#Example 2"
      ]
    },
    {
      "cell_type": "code",
      "metadata": {
        "colab": {
          "base_uri": "https://localhost:8080/"
        },
        "id": "saA2Nq42mYq3",
        "outputId": "835961aa-829a-4bce-e544-844c1d8b2fd4"
      },
      "source": [
        "#Write a Python program that determines if the input number is:\n",
        "#num>0 \"Positive\"\n",
        "#num==0 \"Zero\"\n",
        "#num<0 \"Negative\"\n",
        "\n",
        "num = float(input(\"input number:\"))\n",
        "if num>0:\n",
        "  print(\"Positive\")\n",
        "elif num<0:\n",
        "  print(\"Negative\")\n",
        "else:\n",
        "  print(\"Zero\")"
      ],
      "execution_count": 25,
      "outputs": [
        {
          "output_type": "stream",
          "name": "stdout",
          "text": [
            "input number:6\n",
            "Positive\n"
          ]
        }
      ]
    },
    {
      "cell_type": "markdown",
      "metadata": {
        "id": "SnXJEC4-nzqA"
      },
      "source": [
        "#Example 3"
      ]
    },
    {
      "cell_type": "code",
      "metadata": {
        "colab": {
          "base_uri": "https://localhost:8080/"
        },
        "id": "SnkiGfw4n2oY",
        "outputId": "198132f8-82c4-4abd-8dab-a949877fe07f"
      },
      "source": [
        "#Write a Python program that determines if the grades are:\n",
        "#grade>=75 \"Passed\"\n",
        "#grade==74 *Remedial*\n",
        "#grade<74 \"Failed\"\n",
        "\n",
        "grade = float(input(\"Enter your grade:\"))\n",
        "if grade>75:\n",
        "  print(\"You passed\")\n",
        "elif grade>74 and grade<75:\n",
        "  print(\"Remedial\")\n",
        "else:\n",
        "  print(\"You Failed\")"
      ],
      "execution_count": 27,
      "outputs": [
        {
          "output_type": "stream",
          "name": "stdout",
          "text": [
            "Enter your grade:74.9\n",
            "Remedial\n"
          ]
        }
      ]
    },
    {
      "cell_type": "markdown",
      "metadata": {
        "id": "QknsY68dncYc"
      },
      "source": [
        ""
      ]
    }
  ]
}