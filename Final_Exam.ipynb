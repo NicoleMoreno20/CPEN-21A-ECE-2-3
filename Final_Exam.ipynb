{
  "nbformat": 4,
  "nbformat_minor": 0,
  "metadata": {
    "colab": {
      "name": "Final Exam.ipynb",
      "provenance": [],
      "authorship_tag": "ABX9TyMFVMs3q5af/WIvP+Q/oMuC",
      "include_colab_link": true
    },
    "kernelspec": {
      "name": "python3",
      "display_name": "Python 3"
    },
    "language_info": {
      "name": "python"
    }
  },
  "cells": [
    {
      "cell_type": "markdown",
      "metadata": {
        "id": "view-in-github",
        "colab_type": "text"
      },
      "source": [
        "<a href=\"https://colab.research.google.com/github/NicoleMoreno20/CPEN-21A-ECE-2-3/blob/main/Final_Exam.ipynb\" target=\"_parent\"><img src=\"https://colab.research.google.com/assets/colab-badge.svg\" alt=\"Open In Colab\"/></a>"
      ]
    },
    {
      "cell_type": "markdown",
      "source": [
        "#Final Exam"
      ],
      "metadata": {
        "id": "j91b-LYkyAqN"
      }
    },
    {
      "cell_type": "markdown",
      "source": [
        "#Problem Statement 1"
      ],
      "metadata": {
        "id": "j7apKHpCrtLC"
      }
    },
    {
      "cell_type": "code",
      "source": [
        "sum = 0\n",
        "numbers = [5,4,3,2,1,1,2,3,4,5]\n",
        "for x in numbers:\n",
        "  sum = x+sum\n",
        "print(sum)"
      ],
      "metadata": {
        "colab": {
          "base_uri": "https://localhost:8080/"
        },
        "id": "FM3JVwJPr-8B",
        "outputId": "2b1558ae-56cd-4c99-c7c5-e67592af7879"
      },
      "execution_count": 16,
      "outputs": [
        {
          "output_type": "stream",
          "name": "stdout",
          "text": [
            "30\n"
          ]
        }
      ]
    },
    {
      "cell_type": "markdown",
      "source": [
        "#Problem Statement 2"
      ],
      "metadata": {
        "id": "AM8gomlTt02X"
      }
    },
    {
      "cell_type": "code",
      "source": [
        "lst = []\n",
        "n= 0\n",
        "while n!=5:\n",
        "  a = input(\"Input a number:\")\n",
        "  lst.append(a)\n",
        "  if n == 4:\n",
        "    ans = (int(lst[0])+int(lst[-1]))\n",
        "    print(ans)\n",
        "    break\n",
        "  else:\n",
        "    n+=1"
      ],
      "metadata": {
        "colab": {
          "base_uri": "https://localhost:8080/"
        },
        "id": "j9n6R_M_t5nQ",
        "outputId": "42d66e2a-b953-48cb-f7da-c8f67dc9ded7"
      },
      "execution_count": 15,
      "outputs": [
        {
          "output_type": "stream",
          "name": "stdout",
          "text": [
            "Input a number:10\n",
            "Input a number:20\n",
            "Input a number:30\n",
            "Input a number:40\n",
            "Input a number:50\n",
            "60\n"
          ]
        }
      ]
    },
    {
      "cell_type": "markdown",
      "source": [
        "#Problem Statement 3"
      ],
      "metadata": {
        "id": "VhdKmom9vIRN"
      }
    },
    {
      "cell_type": "code",
      "source": [
        "grade = int(input(\"Input grade:\"))\n",
        "\n",
        "if grade >=90:\n",
        "  print(\"your grade is: A\")\n",
        "elif 80<=grade<89:\n",
        "  print(\"your grade is: B\")\n",
        "elif 70<=grade<79:\n",
        "  print(\"your grade is: C\")\n",
        "elif 60<=grade<69:\n",
        "  print(\"your grade is: D\")\n",
        "else:\n",
        "  print(\"your grade is: F\")"
      ],
      "metadata": {
        "colab": {
          "base_uri": "https://localhost:8080/"
        },
        "id": "cvkzMpS7vPj6",
        "outputId": "9ac3b0be-f9fb-42a6-d733-3c5d5a07a76b"
      },
      "execution_count": 25,
      "outputs": [
        {
          "output_type": "stream",
          "name": "stdout",
          "text": [
            "Input grade:92\n",
            "your grade is: A\n"
          ]
        }
      ]
    }
  ]
}