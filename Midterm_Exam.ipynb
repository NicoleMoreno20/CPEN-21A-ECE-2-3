{
  "nbformat": 4,
  "nbformat_minor": 0,
  "metadata": {
    "colab": {
      "name": "Midterm Exam.ipynb",
      "provenance": [],
      "authorship_tag": "ABX9TyPqgQL6iJ+v1zvH3KENssKI",
      "include_colab_link": true
    },
    "kernelspec": {
      "name": "python3",
      "display_name": "Python 3"
    },
    "language_info": {
      "name": "python"
    }
  },
  "cells": [
    {
      "cell_type": "markdown",
      "metadata": {
        "id": "view-in-github",
        "colab_type": "text"
      },
      "source": [
        "<a href=\"https://colab.research.google.com/github/NicoleMoreno20/CPEN-21A-ECE-2-3/blob/main/Midterm_Exam.ipynb\" target=\"_parent\"><img src=\"https://colab.research.google.com/assets/colab-badge.svg\" alt=\"Open In Colab\"/></a>"
      ]
    },
    {
      "cell_type": "markdown",
      "metadata": {
        "id": "pzdqTS34wDdY"
      },
      "source": [
        "#Statement 1"
      ]
    },
    {
      "cell_type": "code",
      "metadata": {
        "colab": {
          "base_uri": "https://localhost:8080/"
        },
        "id": "SdrGhwmgwIId",
        "outputId": "8ed8ee6d-8c39-4845-e0ca-b2906f47ba7d"
      },
      "source": [
        "a = \"Nicole M. Moreno\"\n",
        "b = \"201910293\"\n",
        "c = \"20 years old\"\n",
        "d = \"February 26, 2001\"\n",
        "e = \"P3 B1 L31 Carissa Homes Bagtas Tanza Cavite\"\n",
        "f = \"BSECE 2-3\"\n",
        "g = \"1.56\"\n",
        "print(a)\n",
        "print(b)\n",
        "print(c)\n",
        "print(d)\n",
        "print(e)\n",
        "print(f)\n",
        "print(g)"
      ],
      "execution_count": 2,
      "outputs": [
        {
          "output_type": "stream",
          "name": "stdout",
          "text": [
            "Nicole M. Moreno\n",
            "201910293\n",
            "20 years old\n",
            "February 26, 2001\n",
            "P3 B1 L31 Carissa Homes Bagtas Tanza Cavite\n",
            "BSECE 2-3\n",
            "1.56\n"
          ]
        }
      ]
    },
    {
      "cell_type": "markdown",
      "metadata": {
        "id": "X37gr60m4ROG"
      },
      "source": [
        "#Statement 2"
      ]
    },
    {
      "cell_type": "code",
      "metadata": {
        "colab": {
          "base_uri": "https://localhost:8080/",
          "height": 130
        },
        "id": "VaoP9bDKx5d_",
        "outputId": "14213294-4f1f-4ba0-c1fd-2f4ec66ee03d"
      },
      "source": [
        "n = 2\n",
        "answ = \"Y\"\n",
        "\n",
        "print(2<n and n<6)\n",
        "print(2<n or n==6)\n",
        "print(not(2<n or n==6))\n",
        "print(not(4<n))\n",
        "\n",
        "else:\n",
        "  print (\"False)\n",
        "if (answ==\"Y\") or (answ==\"y\"):\n",
        "  print(\"True\")\n",
        "else:\n",
        "  print (\"False\")\n",
        "if (answ==\"Y\") and (answ==\"y\"):\n",
        " print(\"True\")\n",
        "else:\n",
        "  print (\"False\")\n",
        "if not(answ==\"y\"):\n",
        "  print(\"True\")\n",
        "else:\n",
        "  print (\"False\")\n",
        "if ((2<n) and (n==5+1)) or (answ==\"No\"):\n",
        "  print(\"True\")\n",
        "else:\n",
        "  print (\"False\")\n",
        "if ((n==2) and (n==7)) or (answ==\"Y\"):\n",
        "  print(\"True\")\n",
        "else:\n",
        "  print (\"False\")\n",
        "if(n==2) and ((n==7) or (answ==\"Y\")\n",
        "  print(\"True\")"
      ],
      "execution_count": 53,
      "outputs": [
        {
          "output_type": "error",
          "ename": "SyntaxError",
          "evalue": "ignored",
          "traceback": [
            "\u001b[0;36m  File \u001b[0;32m\"<ipython-input-53-45f13165c783>\"\u001b[0;36m, line \u001b[0;32m9\u001b[0m\n\u001b[0;31m    else;\u001b[0m\n\u001b[0m       ^\u001b[0m\n\u001b[0;31mSyntaxError\u001b[0m\u001b[0;31m:\u001b[0m invalid syntax\n"
          ]
        }
      ]
    },
    {
      "cell_type": "markdown",
      "metadata": {
        "id": "1w5_j_IV4WI3"
      },
      "source": [
        "#Statement 3"
      ]
    },
    {
      "cell_type": "code",
      "metadata": {
        "colab": {
          "base_uri": "https://localhost:8080/"
        },
        "id": "Se9g-aCnztlJ",
        "outputId": "90ff9121-69fd-4775-deb5-d32175fb52c3"
      },
      "source": [
        "x = 2\n",
        "y = -3\n",
        "w = 7\n",
        "z = -10\n",
        "print(x/y)\n",
        "print(w/y/x)\n",
        "print(z/y%x)\n",
        "print(x%-y*w)\n",
        "print(x%y)\n",
        "print(z%w-y/x*5+5)\n",
        "print(9-x%(2+y))\n",
        "print(z//w)\n",
        "print((2+y)**2)\n",
        "print(w/x*2)"
      ],
      "execution_count": 25,
      "outputs": [
        {
          "output_type": "stream",
          "name": "stdout",
          "text": [
            "-0.6666666666666666\n",
            "-1.1666666666666667\n",
            "1.3333333333333335\n",
            "14\n",
            "-1\n",
            "16.5\n",
            "9\n",
            "-2\n",
            "1\n",
            "7.0\n"
          ]
        }
      ]
    }
  ]
}