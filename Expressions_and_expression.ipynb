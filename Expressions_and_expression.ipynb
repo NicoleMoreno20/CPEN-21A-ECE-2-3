{
  "nbformat": 4,
  "nbformat_minor": 0,
  "metadata": {
    "colab": {
      "name": "Expressions and expression.ipynb",
      "provenance": [],
      "authorship_tag": "ABX9TyOJgOwziRm6H80Y+pmg3a82",
      "include_colab_link": true
    },
    "kernelspec": {
      "name": "python3",
      "display_name": "Python 3"
    },
    "language_info": {
      "name": "python"
    }
  },
  "cells": [
    {
      "cell_type": "markdown",
      "metadata": {
        "id": "view-in-github",
        "colab_type": "text"
      },
      "source": [
        "<a href=\"https://colab.research.google.com/github/NicoleMoreno20/CPEN-21A-ECE-2-3/blob/main/Expressions_and_expression.ipynb\" target=\"_parent\"><img src=\"https://colab.research.google.com/assets/colab-badge.svg\" alt=\"Open In Colab\"/></a>"
      ]
    },
    {
      "cell_type": "code",
      "metadata": {
        "colab": {
          "base_uri": "https://localhost:8080/"
        },
        "id": "rzEue2lX9Wk4",
        "outputId": "9df7f915-757c-4dfe-81c8-d4adc44d8cc5"
      },
      "source": [
        "print(bool(15))\n",
        "print(bool(True))\n",
        "print(bool(1))\n",
        "\n",
        "print(bool(False))\n",
        "print(bool(0))\n",
        "print(bool(None))\n",
        "print(bool([]))"
      ],
      "execution_count": 1,
      "outputs": [
        {
          "output_type": "stream",
          "name": "stdout",
          "text": [
            "True\n",
            "True\n",
            "True\n",
            "False\n",
            "False\n",
            "False\n",
            "False\n"
          ]
        }
      ]
    },
    {
      "cell_type": "markdown",
      "metadata": {
        "id": "2eUDUeui-jpq"
      },
      "source": [
        "#Function return a Boolean"
      ]
    },
    {
      "cell_type": "code",
      "metadata": {
        "colab": {
          "base_uri": "https://localhost:8080/"
        },
        "id": "g_ezQNka-q0a",
        "outputId": "18de36ac-144a-4134-97b3-0eb6d131d31b"
      },
      "source": [
        "def myFunction():return True\n",
        "\n",
        "print(myFunction())"
      ],
      "execution_count": 2,
      "outputs": [
        {
          "output_type": "stream",
          "name": "stdout",
          "text": [
            "True\n"
          ]
        }
      ]
    },
    {
      "cell_type": "code",
      "metadata": {
        "colab": {
          "base_uri": "https://localhost:8080/"
        },
        "id": "_CT_FWxc-_LC",
        "outputId": "fa085580-dee0-4f81-b48b-8ec710a19352"
      },
      "source": [
        "def myFunction(): return False\n",
        "\n",
        "if myFunction():\n",
        "  print(\"True\")\n",
        "else:\n",
        "  print(\"False\")"
      ],
      "execution_count": 3,
      "outputs": [
        {
          "output_type": "stream",
          "name": "stdout",
          "text": [
            "False\n"
          ]
        }
      ]
    },
    {
      "cell_type": "markdown",
      "metadata": {
        "id": "wyu5OhX6_sZz"
      },
      "source": [
        "#Arithmetic Operator"
      ]
    },
    {
      "cell_type": "code",
      "metadata": {
        "colab": {
          "base_uri": "https://localhost:8080/"
        },
        "id": "VwS5inw4_iXO",
        "outputId": "86828f83-d58f-41d0-d67e-2b5b6aa0b6d7"
      },
      "source": [
        "print(10>9)\n",
        "print(10<9)"
      ],
      "execution_count": 4,
      "outputs": [
        {
          "output_type": "stream",
          "name": "stdout",
          "text": [
            "True\n",
            "False\n"
          ]
        }
      ]
    },
    {
      "cell_type": "markdown",
      "metadata": {
        "id": "fmvHBwNFAGec"
      },
      "source": [
        "#Relation operator"
      ]
    },
    {
      "cell_type": "code",
      "metadata": {
        "colab": {
          "base_uri": "https://localhost:8080/"
        },
        "id": "bow-zIinAKsz",
        "outputId": "b89575fd-c4bb-4948-b010-96598194d3b7"
      },
      "source": [
        "print(10>9)\n",
        "print(10<9)\n",
        "print(10==9)"
      ],
      "execution_count": 5,
      "outputs": [
        {
          "output_type": "stream",
          "name": "stdout",
          "text": [
            "True\n",
            "False\n",
            "False\n"
          ]
        }
      ]
    },
    {
      "cell_type": "markdown",
      "metadata": {
        "id": "RAsFpOYpAlCD"
      },
      "source": [
        "#Python Operators"
      ]
    },
    {
      "cell_type": "code",
      "metadata": {
        "colab": {
          "base_uri": "https://localhost:8080/"
        },
        "id": "FECgcGvqAqOj",
        "outputId": "c3ce4045-08c6-40cd-90ab-75be8f126354"
      },
      "source": [
        "print(10+5)\n",
        "print(10-5)\n",
        "print(10*5)\n",
        "print(10/5)\n",
        "print(10%5) #modulo dividion that shows the reminder after division\n",
        "print(10//3) #floor division, 3.33\n",
        "print(10**2) #concantenation"
      ],
      "execution_count": 6,
      "outputs": [
        {
          "output_type": "stream",
          "name": "stdout",
          "text": [
            "15\n",
            "5\n",
            "50\n",
            "2.0\n",
            "0\n",
            "3\n",
            "100\n"
          ]
        }
      ]
    },
    {
      "cell_type": "markdown",
      "metadata": {
        "id": "YtpNtUDmEacD"
      },
      "source": [
        "#Python Bitwise Operators"
      ]
    },
    {
      "cell_type": "code",
      "metadata": {
        "colab": {
          "base_uri": "https://localhost:8080/"
        },
        "id": "0XiIjMEgBlQc",
        "outputId": "5dba2a1d-f66b-4bd7-f448-25537f3a683e"
      },
      "source": [
        "a=60 #0011 1100\n",
        "b=13 # 0000 1101\n",
        "\n",
        "print(a & b)\n",
        "print(a | b)"
      ],
      "execution_count": 7,
      "outputs": [
        {
          "output_type": "stream",
          "name": "stdout",
          "text": [
            "12\n",
            "61\n"
          ]
        }
      ]
    },
    {
      "cell_type": "code",
      "metadata": {
        "colab": {
          "base_uri": "https://localhost:8080/"
        },
        "id": "ReKpcTn4B8z0",
        "outputId": "28b63d4a-8a86-4101-dcdd-b859a715ce66"
      },
      "source": [
        "a = 60 #0011 1100\n",
        "b = 13 # 0000 1101\n",
        "\n",
        "print(a & b)\n",
        "print(a|b)\n",
        "print(a^b)\n",
        "\n",
        "print(a<<2) #0011 1100 0111 1000-120\n",
        "print(a>>1) #0001 1110-30 carry bit-0"
      ],
      "execution_count": 8,
      "outputs": [
        {
          "output_type": "stream",
          "name": "stdout",
          "text": [
            "12\n",
            "61\n",
            "49\n",
            "240\n",
            "30\n"
          ]
        }
      ]
    },
    {
      "cell_type": "markdown",
      "metadata": {
        "id": "Xr-9Ok9OCuP8"
      },
      "source": [
        "#Assignment Operator"
      ]
    },
    {
      "cell_type": "code",
      "metadata": {
        "colab": {
          "base_uri": "https://localhost:8080/"
        },
        "id": "wBLKJsVzCxME",
        "outputId": "8f9c4a8a-7f7e-4f7e-8e41-cef105298217"
      },
      "source": [
        "a+=3 #Same As a = a + 3, a = 60+3, a = 63\n",
        "print(a)"
      ],
      "execution_count": 9,
      "outputs": [
        {
          "output_type": "stream",
          "name": "stdout",
          "text": [
            "63\n"
          ]
        }
      ]
    },
    {
      "cell_type": "markdown",
      "metadata": {
        "id": "yGj6giJkDDot"
      },
      "source": [
        "#Logical Operator"
      ]
    },
    {
      "cell_type": "code",
      "metadata": {
        "colab": {
          "base_uri": "https://localhost:8080/"
        },
        "id": "2v9OF4BrDI_P",
        "outputId": "45cc7a0a-560b-4006-c329-b82dd89cb093"
      },
      "source": [
        "a = 60 \n",
        "b = 13\n",
        "\n",
        "print(a>b and b>a)\n",
        "print(a==a or b == b)\n",
        "print(not(a==a or b==b))"
      ],
      "execution_count": 10,
      "outputs": [
        {
          "output_type": "stream",
          "name": "stdout",
          "text": [
            "False\n",
            "True\n",
            "False\n"
          ]
        }
      ]
    },
    {
      "cell_type": "markdown",
      "metadata": {
        "id": "ioXad3wBDkrc"
      },
      "source": [
        "#identify Operators"
      ]
    },
    {
      "cell_type": "code",
      "metadata": {
        "colab": {
          "base_uri": "https://localhost:8080/"
        },
        "id": "m0sMwhrjDo6v",
        "outputId": "b18e1488-ff49-474d-ecd0-1c6b9fdf4502"
      },
      "source": [
        "print(a is b)\n",
        "print(a is not b)"
      ],
      "execution_count": 11,
      "outputs": [
        {
          "output_type": "stream",
          "name": "stdout",
          "text": [
            "False\n",
            "True\n"
          ]
        }
      ]
    }
  ]
}