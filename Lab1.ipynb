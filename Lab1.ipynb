{
  "nbformat": 4,
  "nbformat_minor": 0,
  "metadata": {
    "colab": {
      "name": "Lab1",
      "provenance": [],
      "collapsed_sections": [],
      "authorship_tag": "ABX9TyNFh5fx+5CrQZ67b7vtUYEy",
      "include_colab_link": true
    },
    "kernelspec": {
      "name": "python3",
      "display_name": "Python 3"
    },
    "language_info": {
      "name": "python"
    }
  },
  "cells": [
    {
      "cell_type": "markdown",
      "metadata": {
        "id": "view-in-github",
        "colab_type": "text"
      },
      "source": [
        "<a href=\"https://colab.research.google.com/github/NicoleMoreno20/CPEN-21A-ECE-2-3/blob/main/Lab1.ipynb\" target=\"_parent\"><img src=\"https://colab.research.google.com/assets/colab-badge.svg\" alt=\"Open In Colab\"/></a>"
      ]
    },
    {
      "cell_type": "markdown",
      "metadata": {
        "id": "Xr1EJuAIkp65"
      },
      "source": [
        "#Laboratory 1\n"
      ]
    },
    {
      "cell_type": "code",
      "metadata": {
        "colab": {
          "base_uri": "https://localhost:8080/"
        },
        "id": "8tYPfLp8k9Xw",
        "outputId": "340cd035-25aa-4be0-e117-13ed7ed13f1f"
      },
      "source": [
        "x=\"Programming\"\n",
        "print(\"Welcome to Python \"+x)"
      ],
      "execution_count": 2,
      "outputs": [
        {
          "output_type": "stream",
          "name": "stdout",
          "text": [
            "Welcome to Python Programming\n"
          ]
        }
      ]
    },
    {
      "cell_type": "code",
      "metadata": {
        "colab": {
          "base_uri": "https://localhost:8080/"
        },
        "id": "FhHlAaVLmDfP",
        "outputId": "c2a5a7cc-c402-4427-a4d4-2f8271eac855"
      },
      "source": [
        "a=\"name:\"\n",
        "b=\"address:\"\n",
        "c=\"age:\"\n",
        "d=\"Nicole M. Moreno\" #this is a type of string\n",
        "e=\"Ph 3 Carissa Homes Bagtas Tanza Cavite\" #this is the type of string\n",
        "f=\"20 years old\" #this is a type of string\n",
        "print(a+d)\n",
        "print(b+e)\n",
        "print(c+f)\n"
      ],
      "execution_count": 14,
      "outputs": [
        {
          "output_type": "stream",
          "name": "stdout",
          "text": [
            "name:Nicole M. Moreno\n",
            "address:Ph 3 Carissa Homes Bagtas Tanza Cavite\n",
            "age:20 years old\n"
          ]
        }
      ]
    }
  ]
}